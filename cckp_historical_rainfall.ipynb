{
 "cells": [
  {
   "cell_type": "markdown",
   "metadata": {},
   "source": [
    "# Analyse historical data from the Climate Change Knowledge Portal \n",
    "\n",
    "Author: [Giuseppe La Rocca] (mailto: giuseppe.larocca@egi.eu)\n",
    "\n",
    "Creation date: 03-Sept-2019\n",
    "\n",
    "Last updated: 13-March-2023\n",
    "\n",
    "---\n",
    "\n",
    "## Exercise: \n",
    "\n",
    "Calculate the historical precipitation data derived from the Climate Research Unit (Mitchell et at, 2003) aggregated to country and basin levels.\n",
    "\n",
    "* Visit the [World Data Catalogue](https://datacatalog.worldbank.org/dataset/climate-change-knowledge-portal-historical-data)\n",
    "* Click on the \"Data & Resources\" tab\n",
    "* Download a copy of the \"Climate Chnage Knowledge Portal: Historical Data\" and safe the file in your computer\n",
    "* Upload the .xlx spreadsheet in the user's workspace\n",
    "\n",
    "The spreadsheet contains the following tabs:\n",
    "\n",
    "* <u>Country_temperatureCRU</u>: mean monthly and annual temperatures by country for the period 1961-1999.  Values are in degrees Celsius.\n",
    "* <u>Country_precipitationCRU</u>: mean monthly and annual precipitation by country for the period 1961-1999.  Values are in millimeters (mm).\n",
    "\n",
    "For this exercise the dataset in the <u>Country_precipitationCRU</u> tab will be used.\n"
   ]
  },
  {
   "cell_type": "markdown",
   "metadata": {},
   "source": [
    "## Import necessary libraries"
   ]
  },
  {
   "cell_type": "code",
   "execution_count": 1,
   "metadata": {},
   "outputs": [],
   "source": [
    "import pandas as pd\n",
    "from pandas import DataFrame\n",
    "import matplotlib.pyplot as plt"
   ]
  },
  {
   "cell_type": "markdown",
   "metadata": {},
   "source": [
    "### Provide the ISO_3DIGIT of the country you are interested to analyse"
   ]
  },
  {
   "cell_type": "code",
   "execution_count": 2,
   "metadata": {},
   "outputs": [],
   "source": [
    "ISO_3DIGIT=\"ITA\""
   ]
  },
  {
   "cell_type": "markdown",
   "metadata": {},
   "source": [
    "## Load historical datasets from local and create a DataFrame object"
   ]
  },
  {
   "cell_type": "code",
   "execution_count": 4,
   "metadata": {},
   "outputs": [],
   "source": [
    "raw_data = pd.read_excel('./cckp_historical_data_0.xls', sheet_name='Country_precipitationCRU')"
   ]
  },
  {
   "cell_type": "markdown",
   "metadata": {},
   "source": [
    "### Show keys() and datasets"
   ]
  },
  {
   "cell_type": "code",
   "execution_count": 5,
   "metadata": {},
   "outputs": [
    {
     "data": {
      "text/plain": [
       "Index(['ISO_3DIGIT', 'Jan_precip', 'Feb_precip', 'Mar_precip', 'Apr_precip',\n",
       "       'May_precip', 'Jun_precip', 'July_precip', 'Aug_precip', 'Sept_precip',\n",
       "       'Oct_precip', 'Nov_precip', 'Dec_precip', 'Annual_precip'],\n",
       "      dtype='object')"
      ]
     },
     "execution_count": 5,
     "metadata": {},
     "output_type": "execute_result"
    }
   ],
   "source": [
    "# Show available keys()\n",
    "raw_data.keys()"
   ]
  },
  {
   "cell_type": "code",
   "execution_count": 6,
   "metadata": {},
   "outputs": [
    {
     "data": {
      "text/html": [
       "<div>\n",
       "<style scoped>\n",
       "    .dataframe tbody tr th:only-of-type {\n",
       "        vertical-align: middle;\n",
       "    }\n",
       "\n",
       "    .dataframe tbody tr th {\n",
       "        vertical-align: top;\n",
       "    }\n",
       "\n",
       "    .dataframe thead th {\n",
       "        text-align: right;\n",
       "    }\n",
       "</style>\n",
       "<table border=\"1\" class=\"dataframe\">\n",
       "  <thead>\n",
       "    <tr style=\"text-align: right;\">\n",
       "      <th></th>\n",
       "      <th>ISO_3DIGIT</th>\n",
       "      <th>Jan_precip</th>\n",
       "      <th>Feb_precip</th>\n",
       "      <th>Mar_precip</th>\n",
       "      <th>Apr_precip</th>\n",
       "      <th>May_precip</th>\n",
       "      <th>Jun_precip</th>\n",
       "      <th>July_precip</th>\n",
       "      <th>Aug_precip</th>\n",
       "      <th>Sept_precip</th>\n",
       "      <th>Oct_precip</th>\n",
       "      <th>Nov_precip</th>\n",
       "      <th>Dec_precip</th>\n",
       "      <th>Annual_precip</th>\n",
       "    </tr>\n",
       "  </thead>\n",
       "  <tbody>\n",
       "    <tr>\n",
       "      <th>0</th>\n",
       "      <td>AFG</td>\n",
       "      <td>43.275641</td>\n",
       "      <td>49.184578</td>\n",
       "      <td>64.971418</td>\n",
       "      <td>49.406624</td>\n",
       "      <td>24.182488</td>\n",
       "      <td>4.559185</td>\n",
       "      <td>8.034326</td>\n",
       "      <td>7.736403</td>\n",
       "      <td>3.667420</td>\n",
       "      <td>9.355273</td>\n",
       "      <td>15.409127</td>\n",
       "      <td>31.539374</td>\n",
       "      <td>311.321856</td>\n",
       "    </tr>\n",
       "    <tr>\n",
       "      <th>1</th>\n",
       "      <td>AGO</td>\n",
       "      <td>154.987404</td>\n",
       "      <td>148.544214</td>\n",
       "      <td>169.914693</td>\n",
       "      <td>109.072267</td>\n",
       "      <td>15.142675</td>\n",
       "      <td>0.372332</td>\n",
       "      <td>0.321137</td>\n",
       "      <td>3.413405</td>\n",
       "      <td>20.102274</td>\n",
       "      <td>69.766698</td>\n",
       "      <td>144.510161</td>\n",
       "      <td>155.158423</td>\n",
       "      <td>991.305683</td>\n",
       "    </tr>\n",
       "    <tr>\n",
       "      <th>2</th>\n",
       "      <td>ALB</td>\n",
       "      <td>107.999418</td>\n",
       "      <td>102.625834</td>\n",
       "      <td>93.433083</td>\n",
       "      <td>86.162500</td>\n",
       "      <td>74.273917</td>\n",
       "      <td>54.579168</td>\n",
       "      <td>39.075000</td>\n",
       "      <td>45.696333</td>\n",
       "      <td>67.568500</td>\n",
       "      <td>105.261417</td>\n",
       "      <td>138.264167</td>\n",
       "      <td>138.295834</td>\n",
       "      <td>1053.235184</td>\n",
       "    </tr>\n",
       "    <tr>\n",
       "      <th>3</th>\n",
       "      <td>ARE</td>\n",
       "      <td>5.955387</td>\n",
       "      <td>22.178000</td>\n",
       "      <td>16.587609</td>\n",
       "      <td>8.961470</td>\n",
       "      <td>1.080574</td>\n",
       "      <td>1.094061</td>\n",
       "      <td>2.284059</td>\n",
       "      <td>1.405504</td>\n",
       "      <td>0.495943</td>\n",
       "      <td>0.428552</td>\n",
       "      <td>1.740576</td>\n",
       "      <td>5.600291</td>\n",
       "      <td>67.812025</td>\n",
       "    </tr>\n",
       "    <tr>\n",
       "      <th>4</th>\n",
       "      <td>ARG</td>\n",
       "      <td>68.370440</td>\n",
       "      <td>63.654088</td>\n",
       "      <td>69.531037</td>\n",
       "      <td>46.481148</td>\n",
       "      <td>36.282154</td>\n",
       "      <td>28.080046</td>\n",
       "      <td>25.894385</td>\n",
       "      <td>24.096768</td>\n",
       "      <td>30.073554</td>\n",
       "      <td>47.715487</td>\n",
       "      <td>55.566664</td>\n",
       "      <td>63.300102</td>\n",
       "      <td>559.045871</td>\n",
       "    </tr>\n",
       "    <tr>\n",
       "      <th>5</th>\n",
       "      <td>ARM</td>\n",
       "      <td>20.840308</td>\n",
       "      <td>25.926385</td>\n",
       "      <td>40.105538</td>\n",
       "      <td>59.731154</td>\n",
       "      <td>82.848691</td>\n",
       "      <td>68.047154</td>\n",
       "      <td>43.063923</td>\n",
       "      <td>35.969692</td>\n",
       "      <td>29.429538</td>\n",
       "      <td>42.127385</td>\n",
       "      <td>30.794077</td>\n",
       "      <td>23.397923</td>\n",
       "      <td>502.281769</td>\n",
       "    </tr>\n",
       "    <tr>\n",
       "      <th>6</th>\n",
       "      <td>AUS</td>\n",
       "      <td>80.556646</td>\n",
       "      <td>75.809130</td>\n",
       "      <td>61.979699</td>\n",
       "      <td>31.123847</td>\n",
       "      <td>30.003293</td>\n",
       "      <td>23.827744</td>\n",
       "      <td>23.295618</td>\n",
       "      <td>20.269076</td>\n",
       "      <td>17.842302</td>\n",
       "      <td>24.365993</td>\n",
       "      <td>33.099031</td>\n",
       "      <td>50.919120</td>\n",
       "      <td>473.091500</td>\n",
       "    </tr>\n",
       "    <tr>\n",
       "      <th>7</th>\n",
       "      <td>AUT</td>\n",
       "      <td>67.701539</td>\n",
       "      <td>65.913564</td>\n",
       "      <td>75.921487</td>\n",
       "      <td>90.704667</td>\n",
       "      <td>113.363616</td>\n",
       "      <td>137.655924</td>\n",
       "      <td>136.999410</td>\n",
       "      <td>131.417537</td>\n",
       "      <td>94.905410</td>\n",
       "      <td>77.150845</td>\n",
       "      <td>92.210077</td>\n",
       "      <td>77.239770</td>\n",
       "      <td>1161.183869</td>\n",
       "    </tr>\n",
       "    <tr>\n",
       "      <th>8</th>\n",
       "      <td>AZE</td>\n",
       "      <td>24.679867</td>\n",
       "      <td>27.428844</td>\n",
       "      <td>40.522778</td>\n",
       "      <td>48.437356</td>\n",
       "      <td>56.827556</td>\n",
       "      <td>50.862511</td>\n",
       "      <td>25.203571</td>\n",
       "      <td>23.086845</td>\n",
       "      <td>34.152978</td>\n",
       "      <td>45.412756</td>\n",
       "      <td>30.503889</td>\n",
       "      <td>26.764289</td>\n",
       "      <td>433.883241</td>\n",
       "    </tr>\n",
       "    <tr>\n",
       "      <th>9</th>\n",
       "      <td>BDI</td>\n",
       "      <td>154.085002</td>\n",
       "      <td>139.050999</td>\n",
       "      <td>170.240001</td>\n",
       "      <td>193.731999</td>\n",
       "      <td>94.368999</td>\n",
       "      <td>12.223430</td>\n",
       "      <td>3.749010</td>\n",
       "      <td>13.850040</td>\n",
       "      <td>56.134100</td>\n",
       "      <td>96.152401</td>\n",
       "      <td>171.953999</td>\n",
       "      <td>157.271999</td>\n",
       "      <td>1262.812000</td>\n",
       "    </tr>\n",
       "  </tbody>\n",
       "</table>\n",
       "</div>"
      ],
      "text/plain": [
       "  ISO_3DIGIT  Jan_precip  Feb_precip  Mar_precip  Apr_precip  May_precip  \\\n",
       "0        AFG   43.275641   49.184578   64.971418   49.406624   24.182488   \n",
       "1        AGO  154.987404  148.544214  169.914693  109.072267   15.142675   \n",
       "2        ALB  107.999418  102.625834   93.433083   86.162500   74.273917   \n",
       "3        ARE    5.955387   22.178000   16.587609    8.961470    1.080574   \n",
       "4        ARG   68.370440   63.654088   69.531037   46.481148   36.282154   \n",
       "5        ARM   20.840308   25.926385   40.105538   59.731154   82.848691   \n",
       "6        AUS   80.556646   75.809130   61.979699   31.123847   30.003293   \n",
       "7        AUT   67.701539   65.913564   75.921487   90.704667  113.363616   \n",
       "8        AZE   24.679867   27.428844   40.522778   48.437356   56.827556   \n",
       "9        BDI  154.085002  139.050999  170.240001  193.731999   94.368999   \n",
       "\n",
       "   Jun_precip  July_precip  Aug_precip  Sept_precip  Oct_precip  Nov_precip  \\\n",
       "0    4.559185     8.034326    7.736403     3.667420    9.355273   15.409127   \n",
       "1    0.372332     0.321137    3.413405    20.102274   69.766698  144.510161   \n",
       "2   54.579168    39.075000   45.696333    67.568500  105.261417  138.264167   \n",
       "3    1.094061     2.284059    1.405504     0.495943    0.428552    1.740576   \n",
       "4   28.080046    25.894385   24.096768    30.073554   47.715487   55.566664   \n",
       "5   68.047154    43.063923   35.969692    29.429538   42.127385   30.794077   \n",
       "6   23.827744    23.295618   20.269076    17.842302   24.365993   33.099031   \n",
       "7  137.655924   136.999410  131.417537    94.905410   77.150845   92.210077   \n",
       "8   50.862511    25.203571   23.086845    34.152978   45.412756   30.503889   \n",
       "9   12.223430     3.749010   13.850040    56.134100   96.152401  171.953999   \n",
       "\n",
       "   Dec_precip  Annual_precip  \n",
       "0   31.539374     311.321856  \n",
       "1  155.158423     991.305683  \n",
       "2  138.295834    1053.235184  \n",
       "3    5.600291      67.812025  \n",
       "4   63.300102     559.045871  \n",
       "5   23.397923     502.281769  \n",
       "6   50.919120     473.091500  \n",
       "7   77.239770    1161.183869  \n",
       "8   26.764289     433.883241  \n",
       "9  157.271999    1262.812000  "
      ]
     },
     "execution_count": 6,
     "metadata": {},
     "output_type": "execute_result"
    }
   ],
   "source": [
    "raw_data[:10]"
   ]
  },
  {
   "cell_type": "markdown",
   "metadata": {},
   "source": [
    "### Group datasets based on the \"ISO_3DIGIT\" code and check data structure"
   ]
  },
  {
   "cell_type": "code",
   "execution_count": 7,
   "metadata": {},
   "outputs": [],
   "source": [
    "average_annual_rainfall = raw_data.groupby(['ISO_3DIGIT'])\n",
    "#average_annual_rainfall.describe()"
   ]
  },
  {
   "cell_type": "code",
   "execution_count": 8,
   "metadata": {},
   "outputs": [
    {
     "data": {
      "text/html": [
       "<div>\n",
       "<style scoped>\n",
       "    .dataframe tbody tr th:only-of-type {\n",
       "        vertical-align: middle;\n",
       "    }\n",
       "\n",
       "    .dataframe tbody tr th {\n",
       "        vertical-align: top;\n",
       "    }\n",
       "\n",
       "    .dataframe thead th {\n",
       "        text-align: right;\n",
       "    }\n",
       "</style>\n",
       "<table border=\"1\" class=\"dataframe\">\n",
       "  <thead>\n",
       "    <tr style=\"text-align: right;\">\n",
       "      <th></th>\n",
       "      <th>ISO_3DIGIT</th>\n",
       "      <th>Jan_precip</th>\n",
       "      <th>Feb_precip</th>\n",
       "      <th>Mar_precip</th>\n",
       "      <th>Apr_precip</th>\n",
       "      <th>May_precip</th>\n",
       "      <th>Jun_precip</th>\n",
       "      <th>July_precip</th>\n",
       "      <th>Aug_precip</th>\n",
       "      <th>Sept_precip</th>\n",
       "      <th>Oct_precip</th>\n",
       "      <th>Nov_precip</th>\n",
       "      <th>Dec_precip</th>\n",
       "      <th>Annual_precip</th>\n",
       "    </tr>\n",
       "  </thead>\n",
       "  <tbody>\n",
       "    <tr>\n",
       "      <th>79</th>\n",
       "      <td>ITA</td>\n",
       "      <td>77.582595</td>\n",
       "      <td>71.877119</td>\n",
       "      <td>74.601048</td>\n",
       "      <td>78.998833</td>\n",
       "      <td>74.153342</td>\n",
       "      <td>67.460726</td>\n",
       "      <td>56.390238</td>\n",
       "      <td>71.921125</td>\n",
       "      <td>75.894357</td>\n",
       "      <td>95.069706</td>\n",
       "      <td>101.236373</td>\n",
       "      <td>85.008159</td>\n",
       "      <td>930.193617</td>\n",
       "    </tr>\n",
       "  </tbody>\n",
       "</table>\n",
       "</div>"
      ],
      "text/plain": [
       "   ISO_3DIGIT  Jan_precip  Feb_precip  Mar_precip  Apr_precip  May_precip  \\\n",
       "79        ITA   77.582595   71.877119   74.601048   78.998833   74.153342   \n",
       "\n",
       "    Jun_precip  July_precip  Aug_precip  Sept_precip  Oct_precip  Nov_precip  \\\n",
       "79   67.460726    56.390238   71.921125    75.894357   95.069706  101.236373   \n",
       "\n",
       "    Dec_precip  Annual_precip  \n",
       "79   85.008159     930.193617  "
      ]
     },
     "execution_count": 8,
     "metadata": {},
     "output_type": "execute_result"
    }
   ],
   "source": [
    "# Filter datasets by ISO_3DIGIT\n",
    "iso_3digit_average_annual_rainfall = average_annual_rainfall.get_group(ISO_3DIGIT)\n",
    "iso_3digit_average_annual_rainfall"
   ]
  },
  {
   "cell_type": "markdown",
   "metadata": {},
   "source": [
    "### Create the DataFrame to plot"
   ]
  },
  {
   "cell_type": "code",
   "execution_count": 9,
   "metadata": {},
   "outputs": [
    {
     "data": {
      "text/html": [
       "<div>\n",
       "<style scoped>\n",
       "    .dataframe tbody tr th:only-of-type {\n",
       "        vertical-align: middle;\n",
       "    }\n",
       "\n",
       "    .dataframe tbody tr th {\n",
       "        vertical-align: top;\n",
       "    }\n",
       "\n",
       "    .dataframe thead th {\n",
       "        text-align: right;\n",
       "    }\n",
       "</style>\n",
       "<table border=\"1\" class=\"dataframe\">\n",
       "  <thead>\n",
       "    <tr style=\"text-align: right;\">\n",
       "      <th></th>\n",
       "      <th>Mean monthly and annual precipitation for period 1961-1999</th>\n",
       "      <th>Precipitations</th>\n",
       "    </tr>\n",
       "  </thead>\n",
       "  <tbody>\n",
       "    <tr>\n",
       "      <th>0</th>\n",
       "      <td>Jan</td>\n",
       "      <td>77.582595</td>\n",
       "    </tr>\n",
       "    <tr>\n",
       "      <th>1</th>\n",
       "      <td>Feb</td>\n",
       "      <td>71.877119</td>\n",
       "    </tr>\n",
       "    <tr>\n",
       "      <th>2</th>\n",
       "      <td>Mar</td>\n",
       "      <td>74.601048</td>\n",
       "    </tr>\n",
       "    <tr>\n",
       "      <th>3</th>\n",
       "      <td>Apr</td>\n",
       "      <td>78.998833</td>\n",
       "    </tr>\n",
       "    <tr>\n",
       "      <th>4</th>\n",
       "      <td>May</td>\n",
       "      <td>74.153342</td>\n",
       "    </tr>\n",
       "    <tr>\n",
       "      <th>5</th>\n",
       "      <td>Jun</td>\n",
       "      <td>67.460726</td>\n",
       "    </tr>\n",
       "    <tr>\n",
       "      <th>6</th>\n",
       "      <td>Jul</td>\n",
       "      <td>56.390238</td>\n",
       "    </tr>\n",
       "    <tr>\n",
       "      <th>7</th>\n",
       "      <td>Aug</td>\n",
       "      <td>71.921125</td>\n",
       "    </tr>\n",
       "    <tr>\n",
       "      <th>8</th>\n",
       "      <td>Sept</td>\n",
       "      <td>75.894357</td>\n",
       "    </tr>\n",
       "    <tr>\n",
       "      <th>9</th>\n",
       "      <td>Oct</td>\n",
       "      <td>95.069706</td>\n",
       "    </tr>\n",
       "    <tr>\n",
       "      <th>10</th>\n",
       "      <td>Nov</td>\n",
       "      <td>101.236373</td>\n",
       "    </tr>\n",
       "    <tr>\n",
       "      <th>11</th>\n",
       "      <td>Dec</td>\n",
       "      <td>85.008159</td>\n",
       "    </tr>\n",
       "  </tbody>\n",
       "</table>\n",
       "</div>"
      ],
      "text/plain": [
       "   Mean monthly and annual precipitation for period 1961-1999  Precipitations\n",
       "0                                                 Jan               77.582595\n",
       "1                                                 Feb               71.877119\n",
       "2                                                 Mar               74.601048\n",
       "3                                                 Apr               78.998833\n",
       "4                                                 May               74.153342\n",
       "5                                                 Jun               67.460726\n",
       "6                                                 Jul               56.390238\n",
       "7                                                 Aug               71.921125\n",
       "8                                                Sept               75.894357\n",
       "9                                                 Oct               95.069706\n",
       "10                                                Nov              101.236373\n",
       "11                                                Dec               85.008159"
      ]
     },
     "execution_count": 9,
     "metadata": {},
     "output_type": "execute_result"
    }
   ],
   "source": [
    "Data = {\n",
    "    'Mean monthly and annual precipitation for period 1961-1999': [\n",
    "          'Jan','Feb','Mar','Apr','May','Jun','Jul','Aug','Sept','Oct','Nov','Dec'\n",
    "    ],\n",
    "    \n",
    "    'Precipitations': [\n",
    "          iso_3digit_average_annual_rainfall['Jan_precip'].values[0],\n",
    "          iso_3digit_average_annual_rainfall['Feb_precip'].values[0],\n",
    "          iso_3digit_average_annual_rainfall['Mar_precip'].values[0],\n",
    "          iso_3digit_average_annual_rainfall['Apr_precip'].values[0],\n",
    "          iso_3digit_average_annual_rainfall['May_precip'].values[0],\n",
    "          iso_3digit_average_annual_rainfall['Jun_precip'].values[0],\n",
    "          iso_3digit_average_annual_rainfall['July_precip'].values[0],\n",
    "          iso_3digit_average_annual_rainfall['Aug_precip'].values[0],\n",
    "          iso_3digit_average_annual_rainfall['Sept_precip'].values[0],\n",
    "          iso_3digit_average_annual_rainfall['Oct_precip'].values[0],\n",
    "          iso_3digit_average_annual_rainfall['Nov_precip'].values[0],\n",
    "          iso_3digit_average_annual_rainfall['Dec_precip'].values[0]\n",
    "    ]\n",
    "}\n",
    "\n",
    "data_frame=DataFrame(Data, columns=['Mean monthly and annual precipitation for period 1961-1999', 'Precipitations'])\n",
    "data_frame"
   ]
  },
  {
   "cell_type": "markdown",
   "metadata": {},
   "source": [
    "### Plot the DataFrame "
   ]
  },
  {
   "cell_type": "code",
   "execution_count": 10,
   "metadata": {},
   "outputs": [
    {
     "data": {
      "text/plain": [
       "<matplotlib.legend.Legend at 0x7fd35d4bb1f0>"
      ]
     },
     "execution_count": 10,
     "metadata": {},
     "output_type": "execute_result"
    },
    {
     "data": {
      "image/png": "[encoded data removed]",
      "text/plain": [
       "<Figure size 1000x500 with 1 Axes>"
      ]
     },
     "metadata": {},
     "output_type": "display_data"
    }
   ],
   "source": [
    "data_frame.plot(\n",
    "    x='Mean monthly and annual precipitation for period 1961-1999', \n",
    "    y='Precipitations',\n",
    "    color='darkblue', \n",
    "    figsize=(10,5),\n",
    "    linewidth='3')\n",
    "\n",
    "# Add legend, grid and show the plot\n",
    "plt.grid()\n",
    "plt.legend()"
   ]
  },
  {
   "cell_type": "code",
   "execution_count": 12,
   "metadata": {},
   "outputs": [
    {
     "data": {
      "text/plain": [
       "<Figure size 640x480 with 0 Axes>"
      ]
     },
     "metadata": {},
     "output_type": "display_data"
    }
   ],
   "source": [
    "# Save the final plot\n",
    "plt.savefig(\"./rainfalls.png\")"
   ]
  },
  {
   "cell_type": "code",
   "execution_count": null,
   "metadata": {},
   "outputs": [],
   "source": []
  }
 ],
 "metadata": {
  "kernelspec": {
   "display_name": "Python 3 (ipykernel)",
   "language": "python",
   "name": "python3"
  },
  "language_info": {
   "codemirror_mode": {
    "name": "ipython",
    "version": 3
   },
   "file_extension": ".py",
   "mimetype": "text/x-python",
   "name": "python",
   "nbconvert_exporter": "python",
   "pygments_lexer": "ipython3",
   "version": "3.10.6"
  }
 },
 "nbformat": 4,
 "nbformat_minor": 4
}
